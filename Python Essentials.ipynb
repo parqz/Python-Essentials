{
 "cells": [
  {
   "cell_type": "markdown",
   "metadata": {},
   "source": [
    "<div class=\"alert alert-info\">\n",
    "    <h1 align=\"center\">Python Essentials</h1>\n",
    "    <img src=\"img/python-logo.png\" width=\"50%\" align=\"center\"/>\n",
    "    <h3 align=\"center\">Fall 2018 </h3>\n",
    "    <h3 align=\"center\">By Parsa.Ghazvinian</h3>\n",
    "    </div>"
   ]
  },
  {
   "cell_type": "markdown",
   "metadata": {},
   "source": [
    "# What is Python?"
   ]
  },
  {
   "cell_type": "markdown",
   "metadata": {},
   "source": [
    "Python is an interpreted high-level programming language for general-purpose programming.\n",
    "Created by Guido van Rossum and first released in 1991. \n",
    "Python almost support every paradigm in programming, including:\n",
    "- Object-oriented\n",
    "- Imperative\n",
    "- functional\n",
    "- Procedural\n",
    "- Reflective"
   ]
  },
  {
   "cell_type": "markdown",
   "metadata": {},
   "source": [
    "# Up And Running With Python"
   ]
  },
  {
   "cell_type": "markdown",
   "metadata": {},
   "source": [
    "#### - To download and install python you can visit : <a href='https://www.python.org/downloads/'>Python Official Website</a> \n",
    "#### - Or You can use <a href='https://www.anaconda.com/download/'><b>Anaconda</b></a>:\n"
   ]
  },
  {
   "cell_type": "markdown",
   "metadata": {},
   "source": [
    "## What is Anaconda?\n",
    " <img src=\"img/200px-Anaconda_Logo.png\" width=\"30%\" align=\"center\"/>\n",
    " <br>\n",
    "Anaconda is a free and open source distribution of the Python and R programming languages for data science and machine learning related applications, that aims to simplify package management and deployment. "
   ]
  },
  {
   "cell_type": "markdown",
   "metadata": {},
   "source": [
    "## Python Versions: "
   ]
  },
  {
   "cell_type": "markdown",
   "metadata": {},
   "source": [
    "There are two Official versions of Python:\n",
    "- Python 3.x\n",
    "- Python 2.7.x\n",
    "<br>\n",
    "Here are some wikies that helps you decide which version to use:\n",
    "- <a href='https://www.python.org/downloads/'><b>Python2or3?</b></a>\n",
    "- <a href='https://www.python.org/downloads/'><b>The key differences between Python 2.7.x and Python 3.x with examples</b></a>\n",
    "<br>The most recent major version of Python is Python 3, which we shall be using in this tutorial. However, Python 2, although not being updated with anything other than security updates, is still quite popular.<br>\n",
    " It is possible to write Python in an Integrated Development Environment(IDE), such as Thonny, <a src=\"https://www.jetbrains.com/pycharm/download/\">Pycharm</a>, <a src=\"https://www.jetbrains.com/pycharm/download/\">Jupyter NoteBook</a>, Netbeans or Eclipse which are particularly useful when managing larger collections of Python files."
   ]
  },
  {
   "cell_type": "markdown",
   "metadata": {},
   "source": [
    "To check if you have python installed on your PC, open a Terminal or Command Line(on Windows) and type:<br>\n",
    " ```python\n",
    "python --version\n",
    "```"
   ]
  },
  {
   "cell_type": "code",
   "execution_count": null,
   "metadata": {},
   "outputs": [],
   "source": [
    "#!python --version"
   ]
  },
  {
   "cell_type": "markdown",
   "metadata": {},
   "source": [
    "### Div into Python(Hello World!)\n"
   ]
  },
  {
   "cell_type": "code",
   "execution_count": null,
   "metadata": {},
   "outputs": [],
   "source": [
    "print(\"Hello, World!\")"
   ]
  },
  {
   "cell_type": "markdown",
   "metadata": {},
   "source": [
    "### Python Variables"
   ]
  },
  {
   "cell_type": "markdown",
   "metadata": {},
   "source": [
    "#### Creating Variables\n",
    "Python has no command for declaring a variable. \n",
    "- A variable is created the moment you first assign a value to it.\n",
    "- Variables do not need to be declared with any particular type and can even change type after they have been set."
   ]
  },
  {
   "cell_type": "code",
   "execution_count": null,
   "metadata": {},
   "outputs": [],
   "source": [
    "x = 4 # x is of type int\n",
    "x = \"Sally\" # x is now of type str\n",
    "print(type(x))"
   ]
  },
  {
   "cell_type": "markdown",
   "metadata": {},
   "source": [
    "#### Variable Names\n",
    "A variable can have a short name (like x and y) or a more descriptive name (age, carname, total_volume). Rules for Python variables:\n",
    "- A variable name can only contain alpha-numeric characters and underscores (A-z, 0-9, and _ )\n",
    "- A variable name cannot start with a number\n",
    "- Variable names are case-sensitive (age, Age and AGE are three different variables)"
   ]
  },
  {
   "cell_type": "markdown",
   "metadata": {},
   "source": [
    "#### `Print` Statement for output variables:"
   ]
  },
  {
   "cell_type": "code",
   "execution_count": null,
   "metadata": {},
   "outputs": [],
   "source": [
    "x = \"Python is \"\n",
    "y = \"awesome\"\n",
    "z =  x + y\n",
    "print(z)"
   ]
  },
  {
   "cell_type": "markdown",
   "metadata": {},
   "source": [
    "For Strings `+` is used as a concatenation operator"
   ]
  },
  {
   "cell_type": "markdown",
   "metadata": {},
   "source": [
    "If you try to combine a string and a number, Python will give you an error:"
   ]
  },
  {
   "cell_type": "code",
   "execution_count": null,
   "metadata": {},
   "outputs": [],
   "source": [
    "x = 5\n",
    "y = \"John\"\n",
    "print(x + y)"
   ]
  },
  {
   "cell_type": "markdown",
   "metadata": {},
   "source": [
    "### Python Numbers"
   ]
  },
  {
   "cell_type": "markdown",
   "metadata": {},
   "source": [
    "There are three numeric types in Python:\n",
    "- int\n",
    "- float\n",
    "- complex"
   ]
  },
  {
   "cell_type": "code",
   "execution_count": null,
   "metadata": {},
   "outputs": [],
   "source": [
    "x = 1    # int\n",
    "y = 2.8  # float\n",
    "z = 1j   # complex"
   ]
  },
  {
   "cell_type": "markdown",
   "metadata": {},
   "source": [
    "To verify the type of any object in Python, use the `type()` function:"
   ]
  },
  {
   "cell_type": "code",
   "execution_count": null,
   "metadata": {},
   "outputs": [],
   "source": [
    "x = 1    # int\n",
    "y = 2.8  # float\n",
    "z = 1j   # complex\n",
    "print(type(x))\n",
    "print(type(y))\n",
    "print(type(z))"
   ]
  },
  {
   "cell_type": "markdown",
   "metadata": {},
   "source": [
    "### Python Type Casting\n",
    "There may be times when you want to specify a type on to a variable. This can be done with casting."
   ]
  },
  {
   "cell_type": "code",
   "execution_count": null,
   "metadata": {},
   "outputs": [],
   "source": [
    "x = int(1)       # x will be 1\n",
    "y = int(2.8)     # y will be 2- By Rounding Down\n",
    "z = int(\"3\")     # z will be 3\n",
    "a = float(1)     # x will be 1.0\n",
    "b = float(2.8)   # y will be 2.8\n",
    "c = float(\"3\")   # z will be 3.0\n",
    "d = float(\"4.2\") # w will be 4.2\n",
    "e = str(\"s1\")    # x will be 's1'\n",
    "f = str(2)       # y will be '2'\n",
    "g = str(3.0)     # z will be '3.0'\n"
   ]
  },
  {
   "cell_type": "markdown",
   "metadata": {},
   "source": [
    "### Python Strings"
   ]
  },
  {
   "cell_type": "markdown",
   "metadata": {},
   "source": [
    "#### Strings in Python are arrays of unicode characters.\n",
    "- #### Python does not have character data type. a single character is simply a string with a length of 1.\n",
    "- ### `Square brackets` can be used to access elements of the string."
   ]
  },
  {
   "cell_type": "markdown",
   "metadata": {},
   "source": [
    "<h3 style=\"color:red;\"><b>Remember that the first character has the position 0</b></h3>"
   ]
  },
  {
   "cell_type": "code",
   "execution_count": null,
   "metadata": {},
   "outputs": [],
   "source": [
    "a = \"Hello, World!\"\n",
    "print(a[1])"
   ]
  },
  {
   "cell_type": "markdown",
   "metadata": {},
   "source": [
    "Gets the character at position 1(Second Character)"
   ]
  },
  {
   "cell_type": "markdown",
   "metadata": {},
   "source": [
    "#### Getting Slots of a String"
   ]
  },
  {
   "cell_type": "code",
   "execution_count": null,
   "metadata": {},
   "outputs": [],
   "source": [
    "b = \"Hello, World!\"\n",
    "print(b[2:5])"
   ]
  },
  {
   "cell_type": "markdown",
   "metadata": {},
   "source": [
    "Gets the characters from position 2 to position 5 (Last index not included)"
   ]
  },
  {
   "cell_type": "markdown",
   "metadata": {},
   "source": [
    "### Some Functions on strings\n",
    "#### The `strip()` method removes any whitespace from the beginning or the end:"
   ]
  },
  {
   "cell_type": "code",
   "execution_count": null,
   "metadata": {},
   "outputs": [],
   "source": [
    "a = \"  Hello, World!  \"\n",
    "print(a.strip()) # returns \"Hello, World!\""
   ]
  },
  {
   "cell_type": "markdown",
   "metadata": {},
   "source": [
    "#### The `len()` method returns the length of a string"
   ]
  },
  {
   "cell_type": "code",
   "execution_count": null,
   "metadata": {},
   "outputs": [],
   "source": [
    "#a = \n",
    "print(len(\"Hello, World!\"))"
   ]
  },
  {
   "cell_type": "markdown",
   "metadata": {},
   "source": [
    "#### The `lower()` method and the `upper()` method for returning string in lower or upper case:"
   ]
  },
  {
   "cell_type": "code",
   "execution_count": null,
   "metadata": {},
   "outputs": [],
   "source": [
    "a = \"Hello, World!\"\n",
    "print(a.lower())\n",
    "print(a.upper())"
   ]
  },
  {
   "cell_type": "markdown",
   "metadata": {},
   "source": [
    "#### The `replace()` method replaces a string with another string(First argument changed to second argument):"
   ]
  },
  {
   "cell_type": "code",
   "execution_count": null,
   "metadata": {},
   "outputs": [],
   "source": [
    "a = \"Martadella\"\n",
    "print(a.replace(\"a\", \"e\"))"
   ]
  },
  {
   "cell_type": "markdown",
   "metadata": {},
   "source": [
    "#### The `split()` method splits the string into substrings if it finds instances of the separator(delimiter):"
   ]
  },
  {
   "cell_type": "code",
   "execution_count": null,
   "metadata": {},
   "outputs": [],
   "source": [
    "a = \"Although, recent\"\n",
    "print(a.split(\",\")) # returns ['Although', ' recent!']"
   ]
  },
  {
   "cell_type": "markdown",
   "metadata": {},
   "source": [
    "### Getting input from command-line"
   ]
  },
  {
   "cell_type": "markdown",
   "metadata": {},
   "source": [
    "#### By using `input()` method we can ask user for input:"
   ]
  },
  {
   "cell_type": "code",
   "execution_count": null,
   "metadata": {},
   "outputs": [],
   "source": [
    "print(\"Enter your name:\")\n",
    "x = input()\n",
    "print(\"Hello, \" + x)"
   ]
  },
  {
   "cell_type": "markdown",
   "metadata": {},
   "source": [
    "### Python Operators"
   ]
  },
  {
   "cell_type": "markdown",
   "metadata": {},
   "source": [
    "#### Operators are used to perform operations on variables and values. Types of operators:\n",
    "- Arithmetic operators\n",
    "- Assignment operators\n",
    "- Comparison operators\n",
    "- Logical operators\n",
    "- Identity operators\n",
    "- Membership operators\n",
    "- Bitwise operators"
   ]
  },
  {
   "cell_type": "markdown",
   "metadata": {},
   "source": [
    "### Arithmetic Operators"
   ]
  },
  {
   "cell_type": "markdown",
   "metadata": {},
   "source": [
    "#### Arithmetic operators are used to perform common mathematical operations on numerical values:\n"
   ]
  },
  {
   "cell_type": "markdown",
   "metadata": {},
   "source": [
    "<img src=\"img/Arithmetic.png\" width=\"70%\" align=\"center\"/>"
   ]
  },
  {
   "cell_type": "markdown",
   "metadata": {},
   "source": [
    "### Assignment  Operators"
   ]
  },
  {
   "cell_type": "markdown",
   "metadata": {},
   "source": [
    "#### Assignment operators are used to assign values to variables:"
   ]
  },
  {
   "cell_type": "markdown",
   "metadata": {},
   "source": [
    "<img src=\"img/assignment.png\" width=\"70%\" align=\"center\"/>"
   ]
  },
  {
   "cell_type": "markdown",
   "metadata": {},
   "source": [
    "### Comparison Operators"
   ]
  },
  {
   "cell_type": "markdown",
   "metadata": {},
   "source": [
    "#### Comparison operators are used to compare two values:"
   ]
  },
  {
   "cell_type": "markdown",
   "metadata": {},
   "source": [
    "<img src=\"img/comparison.png\" width=\"70%\" align=\"center\"/>"
   ]
  },
  {
   "cell_type": "markdown",
   "metadata": {},
   "source": [
    "### Logical Operators"
   ]
  },
  {
   "cell_type": "markdown",
   "metadata": {},
   "source": [
    "#### Logical operators are used to combine conditional statements:"
   ]
  },
  {
   "cell_type": "markdown",
   "metadata": {},
   "source": [
    "<img src=\"img/logical.png\" width=\"70%\" align=\"center\"/>"
   ]
  },
  {
   "cell_type": "markdown",
   "metadata": {},
   "source": [
    "### Identity Operators"
   ]
  },
  {
   "cell_type": "markdown",
   "metadata": {},
   "source": [
    "#### Identity operators are used to compare the objects, not only equal, but they should actually be the same object, with the same memory location:"
   ]
  },
  {
   "cell_type": "markdown",
   "metadata": {},
   "source": [
    "<img src=\"img/identity.png\" width=\"70%\" align=\"center\"/>"
   ]
  },
  {
   "cell_type": "markdown",
   "metadata": {},
   "source": [
    "### Membership Operator"
   ]
  },
  {
   "cell_type": "markdown",
   "metadata": {},
   "source": [
    "#### Membership operators are used to test if a item is presented in an object:"
   ]
  },
  {
   "cell_type": "markdown",
   "metadata": {},
   "source": [
    "<img src=\"img/member.png\" width=\"70%\" align=\"center\"/>"
   ]
  },
  {
   "cell_type": "markdown",
   "metadata": {},
   "source": [
    "### Bitwise Operators"
   ]
  },
  {
   "cell_type": "markdown",
   "metadata": {},
   "source": [
    "#### Bitwise operators are used to perform bitwise operations on (binary) numbers:"
   ]
  },
  {
   "cell_type": "markdown",
   "metadata": {},
   "source": [
    "<img src=\"img/bitwise.png\" width =\"70%\" align = \"center\">"
   ]
  },
  {
   "cell_type": "markdown",
   "metadata": {},
   "source": [
    "### Python Collections"
   ]
  },
  {
   "cell_type": "markdown",
   "metadata": {},
   "source": [
    "####  There are four collection data types in the Python programming language:\n",
    "- <b>List</b> is a collection which is ordered and changeable. Allows duplicate members.\n",
    "- <b>Tuple</b> is a collection which is ordered and unchangeable. Allows duplicate members.\n",
    "- <b>Set</b> is a collection which is unordered and unindexed. No duplicate members.\n",
    "- <b>Dictionary</b> is a collection which is unordered, changeable and indexed. No duplicate members.\n",
    "#### It is very important to choose appropriate collection type considering your requierment: "
   ]
  },
  {
   "cell_type": "markdown",
   "metadata": {},
   "source": [
    "### List\n",
    "####  In Python lists are written with square brackets.\n",
    "Create a list"
   ]
  },
  {
   "cell_type": "code",
   "execution_count": null,
   "metadata": {},
   "outputs": [],
   "source": [
    "thislist = [\"Benz\", \"BMW\", \"TOYOTA\"]\n",
    "a = [1,2,3]\n",
    "print(thislist)"
   ]
  },
  {
   "cell_type": "markdown",
   "metadata": {},
   "source": [
    "### Access Items\n",
    "#### You access the list items by referring to the index number:\n",
    "<h4 style=\"color:red;\">Remember that in Python indices start from 0.</h4>\n"
   ]
  },
  {
   "cell_type": "markdown",
   "metadata": {},
   "source": [
    "access second item of list"
   ]
  },
  {
   "cell_type": "code",
   "execution_count": null,
   "metadata": {},
   "outputs": [],
   "source": [
    "thislist = [\"Benz\", \"BMW\", \"TOYOTA\"]\n",
    "print(thislist[1])"
   ]
  },
  {
   "cell_type": "markdown",
   "metadata": {},
   "source": [
    "### Change Item Value\n",
    "#### To change the value of a specific item, refer to the index number:\n",
    "Change the second item:"
   ]
  },
  {
   "cell_type": "code",
   "execution_count": null,
   "metadata": {},
   "outputs": [],
   "source": [
    "thislist = [\"Benz\", \"BMW\", \"TOYOTA\"]\n",
    "thislist[1] = \"Lexus\"\n",
    "print(thislist)"
   ]
  },
  {
   "cell_type": "markdown",
   "metadata": {},
   "source": [
    "### Loop Through a List\n",
    "#### You can loop through the list items by using a `for`loop:\n",
    "Print all items in the list, one by one:"
   ]
  },
  {
   "cell_type": "code",
   "execution_count": null,
   "metadata": {},
   "outputs": [],
   "source": [
    "thislist = [\"Benz\", \"BMW\", \"TOYOTA\"]\n",
    "for x in thislist:\n",
    "    if x == \"BMW\":\n",
    "      print(x)"
   ]
  },
  {
   "cell_type": "markdown",
   "metadata": {},
   "source": [
    "### Check if Item Exists\n",
    "#### To determine if a specified item is present in a list use the in keyword:\n",
    "Check if \"Benz\" is present in the list:"
   ]
  },
  {
   "cell_type": "code",
   "execution_count": null,
   "metadata": {},
   "outputs": [],
   "source": [
    "thislist = [\"Benz\", \"BMW\", \"TOYOTA\"]\n",
    "if \"Benz\" in thislist:\n",
    "  print(\"Yes, 'Benz' is in the cars list\")"
   ]
  },
  {
   "cell_type": "markdown",
   "metadata": {},
   "source": [
    "### List Length\n",
    "#### To determine how many items a list have, use the `len()` method:\n",
    "Print the number of items in the list:"
   ]
  },
  {
   "cell_type": "code",
   "execution_count": null,
   "metadata": {},
   "outputs": [],
   "source": [
    "thislist = [\"Benz\", \"BMW\", \"TOYOTA\"]\n",
    "print(len(thislist))"
   ]
  },
  {
   "cell_type": "markdown",
   "metadata": {},
   "source": [
    "### Add Items\n",
    "#### To add an item to the end of the list, use the `append()` method:\n",
    "Using the append() method to append an item:"
   ]
  },
  {
   "cell_type": "code",
   "execution_count": null,
   "metadata": {},
   "outputs": [],
   "source": [
    "thislist = [\"Benz\", \"BMW\", \"TOYOTA\"]\n",
    "thislist.append(\"Lexus\")\n",
    "print(thislist)"
   ]
  },
  {
   "cell_type": "markdown",
   "metadata": {},
   "source": [
    "#### To add an item at the specified index, use the insert() method:\n",
    "Insert an item as the second position:"
   ]
  },
  {
   "cell_type": "code",
   "execution_count": null,
   "metadata": {},
   "outputs": [],
   "source": [
    "thislist = [\"Benz\", \"BMW\", \"TOYOTA\"]\n",
    "thislist.insert(1, \"Lexus\")# First argument for position, second for new item\n",
    "print(thislist)"
   ]
  },
  {
   "cell_type": "markdown",
   "metadata": {},
   "source": [
    "### Remove Item\n",
    "There are several methods to remove items from a list:<br>\n",
    "- The `remove()` method removes the specified item:"
   ]
  },
  {
   "cell_type": "code",
   "execution_count": null,
   "metadata": {},
   "outputs": [],
   "source": [
    "thislist = [\"Benz\", \"BMW\", \"TOYOTA\"]\n",
    "thislist.remove(\"BMW\")\n",
    "print(thislist)"
   ]
  },
  {
   "cell_type": "markdown",
   "metadata": {},
   "source": [
    "- The `pop()` method removes the specified index, (or the last item if index is not specified):"
   ]
  },
  {
   "cell_type": "code",
   "execution_count": null,
   "metadata": {},
   "outputs": [],
   "source": [
    "thislist = [\"Benz\", \"BMW\", \"TOYOTA\"]\n",
    "thislist.pop()\n",
    "print(thislist)"
   ]
  },
  {
   "cell_type": "markdown",
   "metadata": {},
   "source": [
    " - The `del` keyword removes the specified index:"
   ]
  },
  {
   "cell_type": "code",
   "execution_count": null,
   "metadata": {},
   "outputs": [],
   "source": [
    "thislist = [\"Benz\", \"BMW\", \"TOYOTA\"]\n",
    "del thislist[0]\n",
    "print(thislist)"
   ]
  },
  {
   "cell_type": "markdown",
   "metadata": {},
   "source": [
    "- The `del` keyword can also delete the list completely:"
   ]
  },
  {
   "cell_type": "code",
   "execution_count": null,
   "metadata": {},
   "outputs": [],
   "source": [
    "thislist = [\"Benz\", \"BMW\", \"TOYOTA\"]\n",
    "del thislist\n",
    "print(thislist) #this will cause an error because \"thislist\" no longer exists."
   ]
  },
  {
   "cell_type": "markdown",
   "metadata": {},
   "source": [
    "- The `clear()` method empties the list:"
   ]
  },
  {
   "cell_type": "code",
   "execution_count": null,
   "metadata": {},
   "outputs": [],
   "source": [
    "thislist = [\"Benz\", \"BMW\", \"TOYOTA\"]\n",
    "thislist.clear()\n",
    "print(thislist)"
   ]
  },
  {
   "cell_type": "markdown",
   "metadata": {},
   "source": [
    "### The list() Constructor\n",
    "It is also possible to use the `list()` constructor to make a list."
   ]
  },
  {
   "cell_type": "code",
   "execution_count": null,
   "metadata": {},
   "outputs": [],
   "source": [
    "thislist = list((\"Benz\", \"BMW\", \"TOYOTA\")) # note the double round-brackets\n",
    "print(thislist)"
   ]
  },
  {
   "cell_type": "markdown",
   "metadata": {},
   "source": [
    "### List Methods\n",
    "Python has a set of built-in methods that you can use on lists.<br>\n",
    "<img src=\"img/ListMethods.png\" width = \"70%\" align = \"center\">"
   ]
  },
  {
   "cell_type": "markdown",
   "metadata": {},
   "source": [
    "### Python Tuples\n",
    "### Tuple\n",
    "A tuple is a collection which is <b>ordered</b> and <b>unchangeable</b>. <br>\n",
    "In Python tuples are written with <b>round brackets</b>.<br>\n",
    "Create a tuple:"
   ]
  },
  {
   "cell_type": "code",
   "execution_count": null,
   "metadata": {},
   "outputs": [],
   "source": [
    "thistuple = (\"Benz\", \"BMW\", \"TOYOTA\")\n",
    "print(thistuple)"
   ]
  },
  {
   "cell_type": "markdown",
   "metadata": {},
   "source": [
    "### Access Tuple Items\n",
    "You can access tuple items by referring to the <b>index number</b><br>\n",
    "Return the item in second position:"
   ]
  },
  {
   "cell_type": "code",
   "execution_count": null,
   "metadata": {},
   "outputs": [],
   "source": [
    "thistuple = (\"Benz\", \"BMW\", \"TOYOTA\")\n",
    "print(thistuple[1])"
   ]
  },
  {
   "cell_type": "markdown",
   "metadata": {},
   "source": [
    "### Change Tuple Values\n",
    "Once a tuple is created, you <b>cannot change</b> its values. Tuples are <b>unchangeable</b>."
   ]
  },
  {
   "cell_type": "code",
   "execution_count": null,
   "metadata": {},
   "outputs": [],
   "source": [
    "thistuple = (\"Benz\", \"BMW\", \"TOYOTA\")\n",
    "thistuple[1] = \"Lexus\"\n",
    "# The values will remain the same:\n",
    "print(thistuple)"
   ]
  },
  {
   "cell_type": "markdown",
   "metadata": {},
   "source": [
    "- <b>Looping through the tuple</b>, <b>checking existence of an item in tuple</b> is similar to lists.<br>\n",
    "#### Example\n",
    "Print every item in a tuple one by one:"
   ]
  },
  {
   "cell_type": "code",
   "execution_count": null,
   "metadata": {},
   "outputs": [],
   "source": [
    "thistuple = (\"Benz\", \"BMW\", \"TOYOTA\")\n",
    "for x in thistuple:\n",
    "  print(x)"
   ]
  },
  {
   "cell_type": "markdown",
   "metadata": {},
   "source": [
    "### Add Items\n",
    "Once a tuple is created, you cannot add items to it. Tuples are unchangeable.\n",
    "### Remove Items\n",
    "Tuples are <b>unchangeable</b>, so you <b>cannot remove items</b> from it, but you can <b>delete the tuple completely</b>:\n",
    "- The `del` keyword can delete the tuple completely:"
   ]
  },
  {
   "cell_type": "code",
   "execution_count": null,
   "metadata": {},
   "outputs": [],
   "source": [
    "thistuple = (\"Benz\", \"BMW\", \"TOYOTA\")\n",
    "del thistuple\n",
    "print(thistuple) #this will raise an error because the tuple no longer exists"
   ]
  },
  {
   "cell_type": "markdown",
   "metadata": {},
   "source": [
    "### The tuple() Constructor\n",
    "It is also possible to use the `tuple()` constructor to make a tuple."
   ]
  },
  {
   "cell_type": "code",
   "execution_count": null,
   "metadata": {},
   "outputs": [],
   "source": [
    "thistuple = tuple((\"Benz\", \"BMW\", \"TOYOTA\")) # note the double round-brackets\n",
    "print(thistuple)"
   ]
  },
  {
   "cell_type": "markdown",
   "metadata": {},
   "source": [
    "### Tuple Methods\n",
    "Python has two built-in methods that you can use on tuples.\n",
    "- count()\t: Returns the number of times a specified value occurs in a tuple\n",
    "- index()\t: Searches the tuple for a specified value and returns the position of where it was found"
   ]
  },
  {
   "cell_type": "markdown",
   "metadata": {},
   "source": [
    "### Python Sets\n",
    "### Set\n",
    "A set is a collection which is <b>unordered</b> and <b>unindexed</b>. In Python sets are written with <b>curly brackets</b>.\n",
    "<br> Create a set:"
   ]
  },
  {
   "cell_type": "code",
   "execution_count": null,
   "metadata": {},
   "outputs": [],
   "source": [
    "thisset = {\"Benz\", \"BMW\", \"TOYOTA\"}\n",
    "print(thisset)"
   ]
  },
  {
   "cell_type": "markdown",
   "metadata": {},
   "source": [
    "<b>Note</b>: Sets are unordered, so the items will appear in a <b>random</b> order."
   ]
  },
  {
   "cell_type": "markdown",
   "metadata": {},
   "source": [
    "### Access Items\n",
    "Cannot access items in a set by referring to an index, since sets are unordered the <b>items has no index</b>.\n",
    "\n",
    "- Loop through the set items using a `for` loop\n",
    "- Ask if a specified value is present in a set, by using the `in` keyword.<br>\n"
   ]
  },
  {
   "cell_type": "code",
   "execution_count": null,
   "metadata": {},
   "outputs": [],
   "source": [
    "#Loop through the set, and print the values:\n",
    "thisset = {\"Benz\", \"BMW\", \"TOYOTA\"}\n",
    "for x in thisset:\n",
    "    if x== \"Benz\":\n",
    "      print(x)"
   ]
  },
  {
   "cell_type": "code",
   "execution_count": null,
   "metadata": {},
   "outputs": [],
   "source": [
    "#Check if \"Benza\" is present in the set:\n",
    "thisset = {\"Benz\", \"BMW\", \"TOYOTA\"}\n",
    "print(\"Benz\" in thisset)"
   ]
  },
  {
   "cell_type": "markdown",
   "metadata": {},
   "source": [
    "### Change Items\n",
    "Once a set is created, you <b>cannot change its items</b>, but you can <b>add new items</b>.\n",
    "### Add Items\n",
    "- To add <b>one item</b> to a set use the `add()` method.\n",
    "- To add <b>more than one item</b> to a set use the `update()` method."
   ]
  },
  {
   "cell_type": "code",
   "execution_count": null,
   "metadata": {},
   "outputs": [],
   "source": [
    "#Add an item to a set, using the add() method:\n",
    "thisset = {\"Benz\", \"BMW\", \"TOYOTA\"}\n",
    "thisset.add(\"Lexus\")\n",
    "print(thisset)"
   ]
  },
  {
   "cell_type": "code",
   "execution_count": null,
   "metadata": {},
   "outputs": [],
   "source": [
    "#Add multiple items to a set, using the update() method:\n",
    "thisset = {\"Benz\", \"BMW\", \"TOYOTA\"}\n",
    "thisset.update([\"Lexus\", \"Ford\"])\n",
    "print(thisset)"
   ]
  },
  {
   "cell_type": "markdown",
   "metadata": {},
   "source": [
    "### Get the Length of a Set\n",
    "To determine how many items a set have, use the `len()` method."
   ]
  },
  {
   "cell_type": "code",
   "execution_count": null,
   "metadata": {},
   "outputs": [],
   "source": [
    "#Get the number of items in a set:\n",
    "thisset = {\"Benz\", \"BMW\", \"TOYOTA\"}\n",
    "print(len(thisset))"
   ]
  },
  {
   "cell_type": "markdown",
   "metadata": {},
   "source": [
    "### Remove Item\n",
    "To remove an item in a set, use the `remove()`, or the `discard()` method."
   ]
  },
  {
   "cell_type": "code",
   "execution_count": null,
   "metadata": {},
   "outputs": [],
   "source": [
    "#Remove \"Benz\" by using the remove() method:\n",
    "thisset = {\"Benz\", \"BMW\", \"TOYOTA\"}\n",
    "thisset.remove(\"Benz\")\n",
    "print(thisset)"
   ]
  },
  {
   "cell_type": "code",
   "execution_count": null,
   "metadata": {},
   "outputs": [],
   "source": [
    "#Remove \"Benz\" by using the discard() method:\n",
    "thisset = {\"Benz\", \"BMW\", \"TOYOTA\"}\n",
    "thisset.discard(\"Benz\")\n",
    "print(thisset)"
   ]
  },
  {
   "cell_type": "markdown",
   "metadata": {},
   "source": [
    "You can also use the `pop()`, method to remove an item, but this method will remove the <b>last item</b>. \n",
    "Remember that sets are unordered, so you <b>will not know what item that gets removed</b>."
   ]
  },
  {
   "cell_type": "code",
   "execution_count": null,
   "metadata": {},
   "outputs": [],
   "source": [
    "thisset = {\"Benz\", \"BMW\", \"TOYOTA\"}\n",
    "x = thisset.pop()\n",
    "print(x)\n",
    "print(thisset)\n"
   ]
  },
  {
   "cell_type": "markdown",
   "metadata": {},
   "source": [
    "The `clear()` method empties the set:"
   ]
  },
  {
   "cell_type": "code",
   "execution_count": null,
   "metadata": {},
   "outputs": [],
   "source": [
    "thisset = {\"Benz\", \"BMW\", \"TOYOTA\"}\n",
    "thisset.clear()\n",
    "print(thisset)"
   ]
  },
  {
   "cell_type": "markdown",
   "metadata": {},
   "source": [
    "The `del` keyword will delete the set completely:"
   ]
  },
  {
   "cell_type": "code",
   "execution_count": null,
   "metadata": {},
   "outputs": [],
   "source": [
    "thisset = {\"Benz\", \"BMW\", \"TOYOTA\"}\n",
    "del thisset\n",
    "print(thisset)"
   ]
  },
  {
   "cell_type": "markdown",
   "metadata": {},
   "source": [
    "### The set() Constructor\n",
    "It is also possible to use the `set()` constructor to make a set."
   ]
  },
  {
   "cell_type": "code",
   "execution_count": null,
   "metadata": {},
   "outputs": [],
   "source": [
    "#Using the set() constructor to make a set:\n",
    "thisset = set((\"Benz\", \"BMW\", \"TOYOTA\")) # note the double round-brackets\n",
    "print(thisset)"
   ]
  },
  {
   "cell_type": "markdown",
   "metadata": {},
   "source": [
    "### Set Methods\n",
    "Python has a set of built-in methods that you can use on sets.<br>\n",
    "<img src=\"img/SetMethods.png\" width = \"70%\" align = \"center\">"
   ]
  },
  {
   "cell_type": "markdown",
   "metadata": {},
   "source": [
    "### Python Dictionaries"
   ]
  },
  {
   "cell_type": "markdown",
   "metadata": {},
   "source": [
    "### Dictionary\n",
    "A dictionary is a collection which is <b>unordered</b>, <b>changeable</b> and <b>indexed</b>.<br>\n",
    "Dictionaries are written with <b>curly brackets</b>, and they have <b>keys</b> and <b>values</b>."
   ]
  },
  {
   "cell_type": "code",
   "execution_count": null,
   "metadata": {},
   "outputs": [],
   "source": [
    "#Create and print a dictionary\n",
    "thisdict =\t{\n",
    "  \"brand\": \"Apple\",\n",
    "  \"model\": \"Mac\",\n",
    "  \"year\": 2002\n",
    "}\n",
    "print(thisdict)"
   ]
  },
  {
   "cell_type": "markdown",
   "metadata": {},
   "source": [
    "### Accessing Items\n",
    "You can access the items of a dictionary by referring to its <b>key name</b>:"
   ]
  },
  {
   "cell_type": "code",
   "execution_count": null,
   "metadata": {},
   "outputs": [],
   "source": [
    "#Get the value of the \"model\" key:\n",
    "x = thisdict[\"model\"]\n",
    "print(x)"
   ]
  },
  {
   "cell_type": "markdown",
   "metadata": {},
   "source": [
    "#### Change Values\n",
    "You can change the value of a specific item by referring to its <b>key name</b>:"
   ]
  },
  {
   "cell_type": "code",
   "execution_count": null,
   "metadata": {},
   "outputs": [],
   "source": [
    "thisdict =\t{\n",
    "  \"brand\": \"Apple\",\n",
    "  \"model\": \"Mac\",\n",
    "  \"year\": 2002\n",
    "}\n",
    "thisdict[\"year\"] = 2018\n",
    "print(thisdict)"
   ]
  },
  {
   "cell_type": "markdown",
   "metadata": {},
   "source": [
    "### Loop Through a Dictionary\n",
    "You can loop through a dictionary by using a `for` loop.<br>\n",
    "When looping through a dictionary, the return value are the <b><i>keys</i></b> of the dictionary."
   ]
  },
  {
   "cell_type": "code",
   "execution_count": null,
   "metadata": {},
   "outputs": [],
   "source": [
    "#Print all key names in the dictionary, one by one:\n",
    "for x in thisdict:\n",
    "  print(x)"
   ]
  },
  {
   "cell_type": "code",
   "execution_count": null,
   "metadata": {},
   "outputs": [],
   "source": [
    "#Print all values in the dictionary, one by one:\n",
    "for x in thisdict:\n",
    "  print(thisdict[x])"
   ]
  },
  {
   "cell_type": "markdown",
   "metadata": {},
   "source": [
    "You can also use the `values()` function to return <b>values</b> of a dictionary:"
   ]
  },
  {
   "cell_type": "code",
   "execution_count": null,
   "metadata": {},
   "outputs": [],
   "source": [
    "for x in thisdict.values():\n",
    "  print(x)"
   ]
  },
  {
   "cell_type": "markdown",
   "metadata": {},
   "source": [
    "Loop through both <b>keys</b> and <b>values</b>, by using the `items()` function:"
   ]
  },
  {
   "cell_type": "code",
   "execution_count": null,
   "metadata": {},
   "outputs": [],
   "source": [
    "for x, y in thisdict.items():\n",
    "  print(x, y)"
   ]
  },
  {
   "cell_type": "markdown",
   "metadata": {},
   "source": [
    "### Check if Key Exists\n",
    "To determine if a specified key is present in a dictionary use the `in` keyword:"
   ]
  },
  {
   "cell_type": "code",
   "execution_count": null,
   "metadata": {},
   "outputs": [],
   "source": [
    "thisdict =\t{\n",
    "  \"brand\": \"Apple\",\n",
    "  \"model\": \"Mac\",\n",
    "  \"year\": 2002\n",
    "}\n",
    "if \"model\" in thisdict:\n",
    "  print(True)"
   ]
  },
  {
   "cell_type": "markdown",
   "metadata": {},
   "source": [
    "### Dictionary Length\n",
    "To determine how many <b>items</b> (key-value pairs) a dictionary have, use the `len()` method."
   ]
  },
  {
   "cell_type": "code",
   "execution_count": null,
   "metadata": {},
   "outputs": [],
   "source": [
    "#Print the number of items in the dictionary:\n",
    "print(len(thisdict))"
   ]
  },
  {
   "cell_type": "markdown",
   "metadata": {},
   "source": [
    "### Adding Items\n",
    "Adding an item to the dictionary is done by using a new <b>index key</b> and <b>assigning a value</b> to it:"
   ]
  },
  {
   "cell_type": "code",
   "execution_count": null,
   "metadata": {},
   "outputs": [],
   "source": [
    "thisdict[\"color\"] = \"red\"\n",
    "print(thisdict)"
   ]
  },
  {
   "cell_type": "markdown",
   "metadata": {},
   "source": [
    "### Updating Items\n",
    "to update an item use `update()` method and overwrite that item:"
   ]
  },
  {
   "cell_type": "code",
   "execution_count": null,
   "metadata": {},
   "outputs": [],
   "source": [
    "thisdict.update({\"color\":\"black\",\"price\":2500})\n",
    "print(thisdict)"
   ]
  },
  {
   "cell_type": "markdown",
   "metadata": {},
   "source": [
    "### Removing Items\n",
    "There are several methods to remove items from a dictionary:\n",
    "- The `del` keyword removes the item with the specified <b>key name</b>:"
   ]
  },
  {
   "cell_type": "code",
   "execution_count": null,
   "metadata": {},
   "outputs": [],
   "source": [
    "thisdict =\t{\n",
    "  \"brand\": \"Apple\",\n",
    "  \"model\": \"Mac\",\n",
    "  \"year\": 2002\n",
    "}\n",
    "del thisdict[\"model\"]\n",
    "print(thisdict)"
   ]
  },
  {
   "cell_type": "markdown",
   "metadata": {},
   "source": [
    "The `pop()` method removes the item with the <b>specified key name</b>:"
   ]
  },
  {
   "cell_type": "code",
   "execution_count": null,
   "metadata": {},
   "outputs": [],
   "source": [
    "thisdict.pop(\"brand\")\n",
    "print(thisdict)"
   ]
  },
  {
   "cell_type": "markdown",
   "metadata": {},
   "source": [
    "The `popitem()` method removes the last inserted item (in versions before 3.7, a random item is removed instead):"
   ]
  },
  {
   "cell_type": "code",
   "execution_count": null,
   "metadata": {},
   "outputs": [],
   "source": [
    "thisdict =\t{\n",
    "  \"brand\": \"Apple\",\n",
    "  \"model\": \"Mac\",\n",
    "  \"year\": 2002\n",
    "}\n",
    "thisdict.popitem()\n",
    "print(thisdict)"
   ]
  },
  {
   "cell_type": "markdown",
   "metadata": {},
   "source": [
    "The `clear()` keyword empties the dictionary(removes all items in dictionary):"
   ]
  },
  {
   "cell_type": "code",
   "execution_count": null,
   "metadata": {},
   "outputs": [],
   "source": [
    "thisdict.clear()\n",
    "print(thisdict)"
   ]
  },
  {
   "cell_type": "markdown",
   "metadata": {},
   "source": [
    "### The dict() Constructor\n",
    "It is also possible to use the `dict()` constructor to make a dictionary:"
   ]
  },
  {
   "cell_type": "code",
   "execution_count": null,
   "metadata": {},
   "outputs": [],
   "source": [
    "thisdict =\tdict(brand=\"Apple\", model=\"Mac\", year=2002)\n",
    "# note that keywords are not string literals\n",
    "# note the use of equals rather than colon for the assignment\n",
    "print(thisdict)"
   ]
  },
  {
   "cell_type": "markdown",
   "metadata": {},
   "source": [
    "### Dictionary Methods\n",
    "Python has a set of built-in methods that you can use on dictionaries.\n",
    "<br>\n",
    "<img src=\"img/DictMethods.png\" width = \"70%\" align = \"center\">"
   ]
  },
  {
   "cell_type": "markdown",
   "metadata": {},
   "source": [
    "### Python if ... Else"
   ]
  },
  {
   "cell_type": "markdown",
   "metadata": {},
   "source": [
    "An \"if statement\" is written by using the `if` keyword following by a <b>conditional statement</b> that if is true, statements inside the body of \"if statement\" will be executed: "
   ]
  },
  {
   "cell_type": "code",
   "execution_count": null,
   "metadata": {},
   "outputs": [],
   "source": [
    "a =2\n",
    "b = 5\n",
    "if b > a:\n",
    "  print(\"b is greater than a\")"
   ]
  },
  {
   "cell_type": "markdown",
   "metadata": {},
   "source": [
    "### Indentation\n",
    "<p style=\"color:red;\"><b>Impotant tip</b>: Python relies on <b>indentation</b>, using whitespace(or tab), to define <b>scope</b> in the code.</p>\n",
    "Other programming languages often use <b>curly-brackets</b> for this purpose."
   ]
  },
  {
   "cell_type": "markdown",
   "metadata": {},
   "source": [
    "### Elif\n",
    "The elif keyword easy saying: \"if the previous conditions were not true, then try this condition\"."
   ]
  },
  {
   "cell_type": "code",
   "execution_count": null,
   "metadata": {},
   "outputs": [],
   "source": [
    "a = 6\n",
    "b = 5\n",
    "if b > a:\n",
    "  print(\"b is greater than a\")\n",
    "elif a > b:\n",
    "  print(\"a is greater than b\")"
   ]
  },
  {
   "cell_type": "markdown",
   "metadata": {},
   "source": [
    "### Else\n",
    "If none of conditions matched before, statements inside `else`keyword will be executed:"
   ]
  },
  {
   "cell_type": "code",
   "execution_count": null,
   "metadata": {},
   "outputs": [],
   "source": [
    "a = 10\n",
    "b = 10\n",
    "if b > a:\n",
    "  print(\"b is greater than a\")\n",
    "elif a > b:\n",
    "  print(\"a is greater than b\")\n",
    "else:\n",
    "  print(\"a and b are equal\")"
   ]
  },
  {
   "cell_type": "markdown",
   "metadata": {},
   "source": [
    "### Short Hand If ... Else\n",
    "If you have only one statement to execute, one for if, and one for else, you can put it all on the same line:"
   ]
  },
  {
   "cell_type": "code",
   "execution_count": null,
   "metadata": {},
   "outputs": [],
   "source": [
    "print(\"A\") if a > b else print(\"B\")"
   ]
  },
  {
   "cell_type": "markdown",
   "metadata": {},
   "source": [
    "### And\n",
    "The `and` keyword is a <b>logical operator</b>, and is used to <b>combine conditional statements</b>:"
   ]
  },
  {
   "cell_type": "code",
   "execution_count": null,
   "metadata": {},
   "outputs": [],
   "source": [
    "#Test if a is greater than b, AND if c is greater than a:\n",
    "c = 5\n",
    "b = 2\n",
    "a = 3\n",
    "if a > b and c > a:\n",
    "  print(\"Both conditions are True\")"
   ]
  },
  {
   "cell_type": "markdown",
   "metadata": {},
   "source": [
    "### Or\n",
    "The `or` keyword is a <b>logical operator</b>, and is used to <b>combine conditional statements</b>:"
   ]
  },
  {
   "cell_type": "code",
   "execution_count": null,
   "metadata": {},
   "outputs": [],
   "source": [
    "#Test if a is greater than b, OR if a is greater than c:\n",
    "c = 6\n",
    "b = 3\n",
    "a = 5\n",
    "if a > b or a > c:\n",
    "  print(\"At least one of the conditions are True\")"
   ]
  },
  {
   "cell_type": "markdown",
   "metadata": {},
   "source": [
    "### Python Loops\n",
    "Python has two primitive loop commands:\n",
    "\n",
    "- `while` loops\n",
    "- `for` loops"
   ]
  },
  {
   "cell_type": "markdown",
   "metadata": {},
   "source": [
    "### The while Loop\n",
    "With the `while` loop we can execute a set of statements <b>as long as a condition is true</b>(unknown iteration number)."
   ]
  },
  {
   "cell_type": "code",
   "execution_count": null,
   "metadata": {},
   "outputs": [],
   "source": [
    "#Print i as long as i is less than 6:\n",
    "i = 1\n",
    "while i < 6:\n",
    "  print(i)\n",
    "  i += 1"
   ]
  },
  {
   "cell_type": "markdown",
   "metadata": {},
   "source": [
    "<b>Note</b>: remember to increment i, or else the loop will continue forever.<br>\n",
    "The `while` loop requires <b>relevant variables</b> to be ready, in this example we need to define an <b>indexing variable</b>"
   ]
  },
  {
   "cell_type": "markdown",
   "metadata": {},
   "source": [
    "### The break Statement\n",
    "With the `break` statement we can stop the loop <b>even if the while condition is true</b>:"
   ]
  },
  {
   "cell_type": "code",
   "execution_count": null,
   "metadata": {},
   "outputs": [],
   "source": [
    "#Exit the loop when i is 3:\n",
    "i = 1\n",
    "while i < 6:\n",
    "  print(i)\n",
    "  if i == 3:\n",
    "    break\n",
    "  i += 1"
   ]
  },
  {
   "cell_type": "markdown",
   "metadata": {},
   "source": [
    "### The continue Statement\n",
    "With the `continue` statement we can <b>stop the current iteration</b>, and continue with the next:"
   ]
  },
  {
   "cell_type": "code",
   "execution_count": null,
   "metadata": {},
   "outputs": [],
   "source": [
    "i = 0\n",
    "while i < 6:\n",
    "  i += 1 \n",
    "  if i == 3:\n",
    "    continue\n",
    "  print(i)"
   ]
  },
  {
   "cell_type": "markdown",
   "metadata": {},
   "source": [
    "### Python For Loops\n",
    "A `for` loop is used for <b>iterating over a sequence</b> (that is either a list, a tuple, a dictionary, a set, or a string).\n",
    "\n",
    "This is less like the for keyword in other programming language, and works more like an <b>iterator method</b> as found in other <b>object-orientated programming languages</b>.\n",
    "\n",
    "With the for loop we can execute a <b>set of statements</b>, <b>once for each item</b> in a list, tuple, set etc."
   ]
  },
  {
   "cell_type": "code",
   "execution_count": null,
   "metadata": {},
   "outputs": [],
   "source": [
    "cars = \"Benasjdnask\"\n",
    "for x in cars:\n",
    "  print(x)"
   ]
  },
  {
   "cell_type": "markdown",
   "metadata": {},
   "source": [
    "- The `for` loop does not require an indexing variable to set beforehand."
   ]
  },
  {
   "cell_type": "markdown",
   "metadata": {},
   "source": [
    "Even <b>strings</b> are iterable objects, they contain a sequence of characters:"
   ]
  },
  {
   "cell_type": "code",
   "execution_count": null,
   "metadata": {},
   "outputs": [],
   "source": [
    "for x in \"banana\":\n",
    "  print(x)"
   ]
  },
  {
   "cell_type": "markdown",
   "metadata": {},
   "source": [
    "### The break Statement\n",
    "With the `break` statement we can stop the loop before it has looped through all the items:"
   ]
  },
  {
   "cell_type": "code",
   "execution_count": null,
   "metadata": {},
   "outputs": [],
   "source": [
    "#Exit the loop when x is \"BMW\" \n",
    "cars = [\"Benz\", \"BMW\", \"TOYOTA\"]\n",
    "for x in cars:\n",
    "  print(x) \n",
    "  if x == \"BMW\":\n",
    "    break"
   ]
  },
  {
   "cell_type": "markdown",
   "metadata": {},
   "source": [
    "### The continue Statement\n",
    "With the `continue` statement we can <b>stop the current iteration</b> of the loop, and <b>continue with the next</b>:"
   ]
  },
  {
   "cell_type": "code",
   "execution_count": null,
   "metadata": {},
   "outputs": [],
   "source": [
    "#Do not print BMW\n",
    "cars = [\"Benz\", \"BMW\", \"TOYOTA\"]\n",
    "for x in cars:\n",
    "  if x == \"BMW\":\n",
    "    continue\n",
    "  print(x)"
   ]
  },
  {
   "cell_type": "markdown",
   "metadata": {},
   "source": [
    "### The range() Function\n",
    "To loop through a set of code a <b>specified number of times</b>, we can use the `range()` function.<br>\n",
    "The `range()` function returns a sequence of numbers, starting from 0 by default, and increments by 1 (by default), and ends at a specified number(one before)."
   ]
  },
  {
   "cell_type": "code",
   "execution_count": null,
   "metadata": {},
   "outputs": [],
   "source": [
    "for x in range(6):\n",
    "  print(x)"
   ]
  },
  {
   "cell_type": "markdown",
   "metadata": {},
   "source": [
    "The `range()` function defaults to 0 as a starting value, however it is possible to specify the <b>starting value</b> by adding a parameter: `range(2, 6)`, which means values from 2 to 6 (<b>but not including 6</b>):"
   ]
  },
  {
   "cell_type": "code",
   "execution_count": null,
   "metadata": {},
   "outputs": [],
   "source": [
    "for x in range(2, 6):\n",
    "  print(x)"
   ]
  },
  {
   "cell_type": "markdown",
   "metadata": {},
   "source": [
    "The `range()` function defaults to increment the sequence by 1, however it is possible to <b>specify the increment value</b> by adding a third parameter: `range(2, 30, 3)`:"
   ]
  },
  {
   "cell_type": "code",
   "execution_count": null,
   "metadata": {},
   "outputs": [],
   "source": [
    "#Increment the sequence with 3 (default is 1):\n",
    "for x in range(2, 30, 3):\n",
    "  print(x)"
   ]
  },
  {
   "cell_type": "markdown",
   "metadata": {},
   "source": [
    "### Else in For Loop\n",
    "The `else` keyword in a `for` loop specifies a block of <b>code to be executed when the loop is finished</b>:"
   ]
  },
  {
   "cell_type": "markdown",
   "metadata": {},
   "source": [
    "for x in range(6):\n",
    "  print(x)\n",
    "else:\n",
    "  print(\"Finally finished!\")"
   ]
  },
  {
   "cell_type": "markdown",
   "metadata": {},
   "source": [
    "### Nested Loops\n",
    "A nested loop is <b>a loop inside a loop</b>.\n",
    "\n",
    "The \"inner loop\" will be executed one time for each iteration of the \"outer loop\":"
   ]
  },
  {
   "cell_type": "code",
   "execution_count": null,
   "metadata": {},
   "outputs": [],
   "source": [
    "adj = [\"Luxury\", \"race\", \"family\"]\n",
    "cars = [\"Benz\", \"BMW\", \"TOYOTA\"]\n",
    "\n",
    "for x in adj:\n",
    "  for y in cars:\n",
    "    print(x, y)"
   ]
  },
  {
   "cell_type": "markdown",
   "metadata": {},
   "source": [
    "### Python Functions\n",
    "A function is a block of code which only <b>runs when it is called</b>.\n",
    "\n",
    "You can pass data, known as <b>parameters</b>, into a function.\n",
    "\n",
    "A function can <b>return data as a result</b>."
   ]
  },
  {
   "cell_type": "markdown",
   "metadata": {},
   "source": [
    "### Creating a Function\n",
    "In Python a function is defined using the `def` keyword:"
   ]
  },
  {
   "cell_type": "code",
   "execution_count": null,
   "metadata": {},
   "outputs": [],
   "source": [
    "def my_function():\n",
    "  print(\"Hello from a function\")"
   ]
  },
  {
   "cell_type": "markdown",
   "metadata": {},
   "source": [
    "### Calling a Function\n",
    "To call a function, use the <b>function name</b> followed by parenthesis:"
   ]
  },
  {
   "cell_type": "code",
   "execution_count": null,
   "metadata": {},
   "outputs": [],
   "source": [
    "my_function()"
   ]
  },
  {
   "cell_type": "markdown",
   "metadata": {},
   "source": [
    "### Parameters\n",
    "Information can be passed to functions as parameter.\n",
    "Parameters are specified after the function name, <b>inside the parentheses</b>.<br> You can add as many parameters as you want, just separate them with a <b>comma</b>."
   ]
  },
  {
   "cell_type": "code",
   "execution_count": null,
   "metadata": {},
   "outputs": [],
   "source": [
    "def my_function(fname):\n",
    "  print(\"Your name is: \"+ fname)\n",
    "\n",
    "my_function(\"ali\")\n",
    "my_function(\"navid\")\n",
    "my_function(\"reza\")"
   ]
  },
  {
   "cell_type": "markdown",
   "metadata": {},
   "source": [
    "### Default Parameter Value\n",
    "Define a default parameter value at <b>function definition time</b>.<br>\n",
    "If we call the function <b>without parameter</b>, it uses the default value:"
   ]
  },
  {
   "cell_type": "code",
   "execution_count": null,
   "metadata": {},
   "outputs": [],
   "source": [
    "def my_function(country = \"Norway\"):\n",
    "  print(\"I am from \" + country)\n",
    "\n",
    "my_function(\"Sweden\")\n",
    "my_function(\"India\")\n",
    "my_function()\n",
    "my_function(\"Brazil\")"
   ]
  },
  {
   "cell_type": "markdown",
   "metadata": {},
   "source": [
    "### Return Values\n",
    "To let a function return a value, use the `return` statement:\n"
   ]
  },
  {
   "cell_type": "code",
   "execution_count": null,
   "metadata": {},
   "outputs": [],
   "source": [
    "def my_function(x):\n",
    "  return 5 * x\n",
    "\n",
    "print(my_function(3))\n",
    "print(my_function(5))\n",
    "print(my_function(9))"
   ]
  },
  {
   "cell_type": "markdown",
   "metadata": {},
   "source": [
    "### Python Classes/Objects\n",
    "Python is an <b>object oriented</b> programming language.\n",
    "\n",
    "Almost everything in Python is an <b>object</b>, with its <b>properties</b> and <b>methods</b>.\n",
    "\n",
    "A <b>Class</b> is an abstraction of an entity which has some <b>properties</b> and <b>methods</b> and models that entity. And each <b>object</b> is an instance of a class.\n",
    "### Create a Class\n",
    "To create a class, use the keyword `class`:"
   ]
  },
  {
   "cell_type": "code",
   "execution_count": null,
   "metadata": {},
   "outputs": [],
   "source": [
    "#Create a class named MyClass, with a property named x:\n",
    "class MyClass:\n",
    "  x = 5"
   ]
  },
  {
   "cell_type": "markdown",
   "metadata": {},
   "source": [
    "### Create Object\n",
    "Now we can use the class named myClass to create objects:"
   ]
  },
  {
   "cell_type": "code",
   "execution_count": null,
   "metadata": {},
   "outputs": [],
   "source": [
    "#Create an object named m1, and print the value of x:\n",
    "m1 = MyClass()\n",
    "print(m1.x)"
   ]
  },
  {
   "cell_type": "markdown",
   "metadata": {},
   "source": [
    "### The __init__() Function\n",
    "All classes have a function called __init__(), which is always executed when the class is being initiated.\n",
    "\n",
    "Use the __init__() function to assign values to object properties, or other operations that are necessary to do when the object is being created:"
   ]
  },
  {
   "cell_type": "code",
   "execution_count": null,
   "metadata": {},
   "outputs": [],
   "source": [
    "class Rect:\n",
    "  def __init__(self, width, length):\n",
    "    self.width = width\n",
    "    self.length = length\n",
    "\n",
    "r1 = Rect(12, 9)\n",
    "\n",
    "print(r1.width)\n",
    "print(r1.length)"
   ]
  },
  {
   "cell_type": "markdown",
   "metadata": {},
   "source": [
    "<b>Note</b>: The __init__() function is called automatically every time the class is being used to create a new object."
   ]
  },
  {
   "cell_type": "markdown",
   "metadata": {},
   "source": [
    "### Object Methods\n",
    "Objects can also contain methods. Methods in objects are <b>functions that belongs to the object</b>."
   ]
  },
  {
   "cell_type": "code",
   "execution_count": null,
   "metadata": {},
   "outputs": [],
   "source": [
    "class Rect:\n",
    "  def __init__(self, width, length):\n",
    "        self.width = width\n",
    "        self.length = length\n",
    "  def myArea(self):\n",
    "        return self.width * self.length\n",
    "\n",
    "r1 = Rect(3,7)\n",
    "print(r1.myArea())"
   ]
  },
  {
   "cell_type": "markdown",
   "metadata": {},
   "source": [
    "### The self Parameter\n",
    "The self parameter is a <b>reference to the class</b> itself, and is used to access variables that belongs to the class."
   ]
  },
  {
   "cell_type": "markdown",
   "metadata": {},
   "source": [
    "### Modify Object Properties\n",
    "You can modify properties on objects by access it by it's name and assign a new value to it:"
   ]
  },
  {
   "cell_type": "code",
   "execution_count": null,
   "metadata": {},
   "outputs": [],
   "source": [
    "#Set the width of r1 to 8:\n",
    "r1.width = 8\n",
    "print(r1.myArea())"
   ]
  },
  {
   "cell_type": "markdown",
   "metadata": {},
   "source": [
    "### Delete Object Properties\n",
    "You can delete properties on objects by using the `del` keyword:"
   ]
  },
  {
   "cell_type": "code",
   "execution_count": null,
   "metadata": {},
   "outputs": [],
   "source": [
    "#Delete the width property from the r1 object:\n",
    "\n",
    "del r1.width"
   ]
  },
  {
   "cell_type": "markdown",
   "metadata": {},
   "source": [
    "### Delete Objects\n",
    "You can delete objects by using the `del` keyword:"
   ]
  },
  {
   "cell_type": "code",
   "execution_count": null,
   "metadata": {},
   "outputs": [],
   "source": [
    "#Delete the r1 object:\n",
    "del r1"
   ]
  },
  {
   "cell_type": "markdown",
   "metadata": {},
   "source": [
    "### What is a Module?\n",
    "Consider a module to be the same as a <b>code library</b>.\n",
    "\n",
    "A file containing a set of functions you want to include in your application.\n",
    "### Create a Module\n",
    "To create a module just save the code you want in a file with the file extension `.py`:"
   ]
  },
  {
   "cell_type": "code",
   "execution_count": null,
   "metadata": {},
   "outputs": [],
   "source": [
    "#Save this code in a file named mymodule.py\n",
    "def greeting(name):\n",
    "  print(\"Hello, \" + name)"
   ]
  },
  {
   "cell_type": "markdown",
   "metadata": {},
   "source": [
    "### Use a Module\n",
    "Now we can use the module we just created, by using the `import` statement:"
   ]
  },
  {
   "cell_type": "code",
   "execution_count": null,
   "metadata": {},
   "outputs": [],
   "source": [
    "#Import the module named mymodule, and call the greeting function:\n",
    "import mymodule\n",
    "mymodule.greeting(\"Jonathan\")"
   ]
  },
  {
   "cell_type": "markdown",
   "metadata": {},
   "source": [
    "<b>Note</b>: When using a function from a module, use the syntax: `module_name.function_name`."
   ]
  },
  {
   "cell_type": "markdown",
   "metadata": {},
   "source": [
    "### Variables in Module\n",
    "The module can contain functions, as already described, but also variables of all types (arrays, dictionaries, objects etc):"
   ]
  },
  {
   "cell_type": "code",
   "execution_count": null,
   "metadata": {},
   "outputs": [],
   "source": [
    "#Save this code in the file mymodule.py\n",
    "person1 = {\n",
    "  \"name\": \"John\",\n",
    "  \"age\": 36,\n",
    "  \"country\": \"Norway\"\n",
    "}"
   ]
  },
  {
   "cell_type": "code",
   "execution_count": null,
   "metadata": {},
   "outputs": [],
   "source": [
    "import mymodule\n",
    "a = mymodule.person1[\"age\"]\n",
    "print(a)"
   ]
  },
  {
   "cell_type": "markdown",
   "metadata": {},
   "source": [
    "### Naming a Module\n",
    "You can name the module file whatever you like, but it must have the file extension `.py`.\n",
    "### Re-naming a Module\n",
    "You can create an alias when you import a module, by using the as keyword:"
   ]
  },
  {
   "cell_type": "code",
   "execution_count": null,
   "metadata": {},
   "outputs": [],
   "source": [
    "#Create an alias for mymodule called mx:\n",
    "import mymodule as mx\n",
    "a = mx.person1[\"age\"]\n",
    "print(a)"
   ]
  },
  {
   "cell_type": "markdown",
   "metadata": {},
   "source": [
    "### Built-in Modules\n",
    "There are several built-in modules in Python, which you can import whenever you like."
   ]
  },
  {
   "cell_type": "code",
   "execution_count": null,
   "metadata": {},
   "outputs": [],
   "source": [
    "import random \n",
    "r1 = random.randint(0, 10) \n",
    "print(\"Random number between 0 and 10 is: % s\" % (r1)) "
   ]
  },
  {
   "cell_type": "markdown",
   "metadata": {},
   "source": [
    "### Using the dir() Function\n",
    "There is a built-in function to <b>list all the function names (or variable names)</b> in a module. The `dir()` function:"
   ]
  },
  {
   "cell_type": "code",
   "execution_count": null,
   "metadata": {},
   "outputs": [],
   "source": [
    "import numpy as np\n",
    "x = dir(np)\n",
    "print(x)\n"
   ]
  },
  {
   "cell_type": "markdown",
   "metadata": {},
   "source": [
    "### A useful trick: `<package name>.<Tab>`\n",
    "<br>\n",
    "<img src='img/numpy_plus_tab.png' width='50%'>"
   ]
  },
  {
   "cell_type": "markdown",
   "metadata": {},
   "source": [
    "<b>Note</b>: The `dir()` function can be used on all modules, also the ones you create yourself."
   ]
  },
  {
   "cell_type": "markdown",
   "metadata": {},
   "source": [
    "### Import From Module\n",
    "You can choose to import only parts from a module, by using the `from` keyword."
   ]
  },
  {
   "cell_type": "code",
   "execution_count": null,
   "metadata": {},
   "outputs": [],
   "source": [
    "#Import only the person1 dictionary from the module:\n",
    "from mymodule import person1\n",
    "print (person1[\"age\"])"
   ]
  },
  {
   "cell_type": "markdown",
   "metadata": {},
   "source": [
    "### Python PIP\n",
    "#### What is PIP?\n",
    "PIP is a package manager for Python packages, or modules if you like.\n",
    "#### What is Package?\n",
    "A package contains all the files you need for a module.\n",
    "Modules are Python code libraries you can include in your project."
   ]
  },
  {
   "cell_type": "markdown",
   "metadata": {},
   "source": [
    "### Check if PIP is Installed\n",
    "Navigate your command line to the location of Python's script directory, and type the following:\n",
    "<br>`pip --version`"
   ]
  },
  {
   "cell_type": "code",
   "execution_count": null,
   "metadata": {},
   "outputs": [],
   "source": [
    "!pip --version"
   ]
  },
  {
   "cell_type": "markdown",
   "metadata": {},
   "source": [
    "### Install PIP\n",
    "If you do not have PIP installed, you can download and install it from this page: \n",
    "<a href='https://pypi.org/project/pip/'>https://pypi.org/project/pip/</a>\n",
    "\n"
   ]
  },
  {
   "cell_type": "markdown",
   "metadata": {},
   "source": [
    "### Download a Package\n",
    "Downloading a package is very easy.\n",
    "Open the command line interface and tell PIP to download the package you want.<br>\n",
    "`pip install <Package name>`"
   ]
  },
  {
   "cell_type": "code",
   "execution_count": null,
   "metadata": {},
   "outputs": [],
   "source": [
    "!pip install camelcase"
   ]
  },
  {
   "cell_type": "markdown",
   "metadata": {},
   "source": [
    "### Using a Package\n",
    "Once the package is installed, it is ready to use.<br>\n",
    "Import the \"camelcase\" package into your project."
   ]
  },
  {
   "cell_type": "markdown",
   "metadata": {},
   "source": [
    "### Remove a Package\n",
    "Use the `uninstall` command to remove a package:<br>\n",
    "The PIP Package Manager will ask you to confirm that you want to remove the camelcase package:<br>\n",
    "Press y and the package will be removed."
   ]
  },
  {
   "cell_type": "code",
   "execution_count": null,
   "metadata": {},
   "outputs": [],
   "source": [
    "!pip uninstall camelcase"
   ]
  },
  {
   "cell_type": "markdown",
   "metadata": {},
   "source": [
    "### List Packages\n",
    "Use the list command to list all the packages installed on your system:<br>\n",
    "`pip list`"
   ]
  },
  {
   "cell_type": "code",
   "execution_count": null,
   "metadata": {},
   "outputs": [],
   "source": [
    "!pip list"
   ]
  },
  {
   "cell_type": "markdown",
   "metadata": {},
   "source": [
    "### Lambda, filter, reduce and map in Python\n",
    "The lambda operator or lambda function is a way to create small anonymous functions, i.e. functions without a name.<br>\n",
    "they are just needed where they have been created.<br>\n",
    "Lambda functions are mainly used in combination with the functions filter(), map() and reduce(). <br>\n",
    "The lambda feature was added to Python due to the demand from <b>Lisp</b> programmers. "
   ]
  },
  {
   "cell_type": "markdown",
   "metadata": {},
   "source": [
    "The general syntax of a lambda function is quite simple:<br>\n",
    "<b>lambda argument_list: expression</b><br>\n",
    "The argument list consists of a comma separated list of arguments and the expression is an arithmetic expression using these arguments.<br>\n",
    "You can assign the function to a variable to give it a name. "
   ]
  },
  {
   "cell_type": "code",
   "execution_count": null,
   "metadata": {},
   "outputs": [],
   "source": [
    "f = lambda x, y : x + y\n",
    "print(f(1,1))"
   ]
  },
  {
   "cell_type": "markdown",
   "metadata": {},
   "source": [
    "### The map() Function\n",
    "The advantage of the `lambda` operator can be seen when it is used in combination with the `map()` function.<br>\n",
    "`map()` is a function with two arguments:<br>\n",
    "`map(func, seq)`<br>\n",
    " `map()` applies the function `func` to all the elements of the sequence `seq`. It returns a new list with the elements changed by `func`."
   ]
  },
  {
   "cell_type": "code",
   "execution_count": null,
   "metadata": {},
   "outputs": [],
   "source": [
    "Celsius = [39.2, 36.5, 37.3, 37.8]\n",
    "Fahrenheit = list(map(lambda x: (float(9)/5)*x + 32, Celsius))\n",
    "print(Fahrenheit)"
   ]
  },
  {
   "cell_type": "markdown",
   "metadata": {},
   "source": [
    "`map()` can be applied to more than one list. The lists have to have the same length. "
   ]
  },
  {
   "cell_type": "code",
   "execution_count": null,
   "metadata": {},
   "outputs": [],
   "source": [
    "a = [1,2,3,4]\n",
    "b = [17,12,11,10]\n",
    "c = [-1,-4,5,9]\n",
    "print(list(map(lambda x,y:x+y, a,b)))\n",
    "print(list(map(lambda x,y,z:x+y+z, a,b,c)))"
   ]
  },
  {
   "cell_type": "markdown",
   "metadata": {},
   "source": [
    "### Filter function\n",
    "The function `filter(function, list)` offers an elegant way to filter out all the elements of a list, for which the function function returns True. <br>\n",
    "Function will be applied to every element of the list and returns a Boolean value, i.e. either True or False. Only if it returns True will the element of the list be included in the result list."
   ]
  },
  {
   "cell_type": "code",
   "execution_count": null,
   "metadata": {},
   "outputs": [],
   "source": [
    "fib = [0,1,1,2,3,5,8,13,21,34,55]\n",
    "result = list(filter(lambda x: x % 2, fib))\n",
    "print(result)"
   ]
  },
  {
   "cell_type": "markdown",
   "metadata": {},
   "source": [
    "### Reducing a List\n",
    "The function `reduce(func, seq)` continually applies the function `func()` to the sequence `seq`. It returns a <b>single value</b>.<br>\n",
    "If seq = [ s1, s2, s3, ... , sn ], calling reduce(func, seq) works like this:\n",
    "- At first the first two elements of seq will be applied to func, i.e. func(s1,s2) The list on which reduce() works looks now like this: [ func(s1, s2), s3, ... , sn ]\n",
    "- In the next step func will be applied on the previous result and the third element of the list, i.e. func(func(s1, s2),s3)\n",
    "<br>The list looks like this now: [ func(func(s1, s2),s3), ... , sn ]\n",
    "- Continue like this until just one element is left and return this element as the result of reduce()."
   ]
  },
  {
   "cell_type": "code",
   "execution_count": null,
   "metadata": {},
   "outputs": [],
   "source": [
    "from functools import reduce\n",
    "reduce(lambda x,y: x+y, [47,11,42,13])"
   ]
  },
  {
   "cell_type": "markdown",
   "metadata": {},
   "source": [
    "<img src=\"img/reduce_diagram.png\" width=\"50%\" align=\"center\"/>"
   ]
  },
  {
   "cell_type": "markdown",
   "metadata": {},
   "source": [
    "### Another example of Reduce\n",
    "Determining the maximum of a list of numerical values by using reduce:\n"
   ]
  },
  {
   "cell_type": "code",
   "execution_count": null,
   "metadata": {},
   "outputs": [],
   "source": [
    "from functools import reduce\n",
    "f = lambda a,b: a if (a > b) else b\n",
    "reduce(f, [47,11,42,102,13])"
   ]
  },
  {
   "cell_type": "markdown",
   "metadata": {},
   "source": [
    "### Python File Handling\n",
    "Python has several functions for creating, reading, updating, and deleting files.\n",
    "The key function for working with files in Python is the `open()` function.\n",
    "\n",
    "The `open()` function takes two parameters; <b><i>filename</i></b>, and <b><i>mode</i></b>.\n",
    "\n",
    "There are four different methods (modes) for opening a file:<br>\n",
    "- \"r\" - Read - Default value. Opens a file for reading, error if the file does not exist\n",
    "\n",
    "- \"a\" - Append - Opens a file for appending, creates the file if it does not exist\n",
    "\n",
    "- \"w\" - Write - Opens a file for writing, creates the file if it does not exist\n",
    "\n",
    "- \"x\" - Create - Creates the specified file, returns an error if the file exists"
   ]
  },
  {
   "cell_type": "markdown",
   "metadata": {},
   "source": [
    "In addition you can specify if the file should be handled as <b>binary</b> or <b>text mode</b>.\n",
    "- \"t\" - Text - Default value. Text mode\n",
    "\n",
    "- \"b\" - Binary - Binary mode (e.g. images)<br>\n",
    "<b>Note</b>: Make sure the file exists, or else you will get an error."
   ]
  },
  {
   "cell_type": "code",
   "execution_count": null,
   "metadata": {},
   "outputs": [],
   "source": [
    "To open a file for reading it is enough to specify the name of the file:\n",
    "f = open(\"demofile.txt\") \n",
    "# is the same as\n",
    "f = open(\"demofile.txt\", \"rt\")"
   ]
  },
  {
   "cell_type": "markdown",
   "metadata": {},
   "source": [
    "### Reading a File\n",
    "The `open()` function returns a file object, which has a `read()` method for reading the content of the file:"
   ]
  },
  {
   "cell_type": "code",
   "execution_count": null,
   "metadata": {},
   "outputs": [],
   "source": [
    "f = open(\"demofile.txt\", \"r\")\n",
    "print(f.read())"
   ]
  },
  {
   "cell_type": "markdown",
   "metadata": {},
   "source": [
    "### Read Lines\n",
    "You can return one line by using the `readline()` method:"
   ]
  },
  {
   "cell_type": "code",
   "execution_count": null,
   "metadata": {},
   "outputs": [],
   "source": [
    "f = open(\"demofile.txt\", \"r\")\n",
    "print(f.readline())"
   ]
  },
  {
   "cell_type": "markdown",
   "metadata": {},
   "source": [
    "By looping through the lines of the file, you can read the whole file, line by line:"
   ]
  },
  {
   "cell_type": "code",
   "execution_count": null,
   "metadata": {},
   "outputs": [],
   "source": [
    "f = open(\"demofile.txt\", \"r\")\n",
    "for x in f:\n",
    "  print(x)"
   ]
  },
  {
   "cell_type": "markdown",
   "metadata": {},
   "source": [
    "### Python File Write\n",
    "To write to an existing file, you must add a parameter to the open() function:\n",
    "\n",
    "- \"a\" - Append - will append to the end of the file\n",
    "<br>\n",
    "- \"w\" - Write - will overwrite any existing content.<br>"
   ]
  },
  {
   "cell_type": "code",
   "execution_count": null,
   "metadata": {},
   "outputs": [],
   "source": [
    "#Open the file \"demofile.txt\" and append content to the file:\n",
    "f = open(\"demofile.txt\", \"a\")\n",
    "f.write(\"Woow new line!\")"
   ]
  },
  {
   "cell_type": "code",
   "execution_count": null,
   "metadata": {},
   "outputs": [],
   "source": [
    "#Open the file \"demofile.txt\" and overwrite the content:\n",
    "f = open(\"demofile.txt\", \"w\")\n",
    "f.write(\"woow! i'm sitting on last content\")"
   ]
  },
  {
   "cell_type": "markdown",
   "metadata": {},
   "source": [
    "### Create a New File\n",
    "To create a new file in Python, use the `open()` method, with one of the following parameters:\n",
    "\n",
    "- \"x\" - Create - will create a file, returns an error if the file exist\n",
    "<br>\n",
    "- \"a\" - Append - will create a file if the specified file does not exist\n",
    "<br>\n",
    "- \"w\" - Write - will create a file if the specified file does not exist\n",
    "<br>"
   ]
  },
  {
   "cell_type": "code",
   "execution_count": null,
   "metadata": {},
   "outputs": [],
   "source": [
    "#Create a file called \"myfile.txt\":\n",
    "f = open(\"myfile.txt\", \"x\")\n",
    "#Create a new file if it does not exist:\n",
    "f = open(\"myfile.txt\", \"w\")"
   ]
  },
  {
   "cell_type": "markdown",
   "metadata": {},
   "source": [
    "### Delete a File\n",
    "To delete a file, you must import the `OS` module, and run its`os.remove()` function:"
   ]
  },
  {
   "cell_type": "code",
   "execution_count": null,
   "metadata": {},
   "outputs": [],
   "source": [
    "#Remove the file \"demofile.txt\":\n",
    "import os\n",
    "os.remove(\"demofile.txt\")"
   ]
  },
  {
   "cell_type": "markdown",
   "metadata": {},
   "source": [
    "### Check if File exist:\n",
    "To avoid getting an error, you might want to check if the file exist before you try to delete it:"
   ]
  },
  {
   "cell_type": "code",
   "execution_count": null,
   "metadata": {},
   "outputs": [],
   "source": [
    "import os\n",
    "if os.path.exists(\"demofile.txt\"):\n",
    "  os.remove(\"demofile.txt\")\n",
    "else:\n",
    "  print(\"The file does not exist\")"
   ]
  },
  {
   "cell_type": "markdown",
   "metadata": {},
   "source": [
    "### Delete Folder\n",
    "To delete an entire folder, use the `os.rmdir()` method:\n",
    "<br> <b>Note:</b> You can only remove empty folders."
   ]
  },
  {
   "cell_type": "code",
   "execution_count": null,
   "metadata": {},
   "outputs": [],
   "source": [
    "import os\n",
    "os.rmdir(\"myfolder\")"
   ]
  }
 ],
 "metadata": {
  "kernelspec": {
   "display_name": "Python 3",
   "language": "python",
   "name": "python3"
  },
  "language_info": {
   "codemirror_mode": {
    "name": "ipython",
    "version": 3
   },
   "file_extension": ".py",
   "mimetype": "text/x-python",
   "name": "python",
   "nbconvert_exporter": "python",
   "pygments_lexer": "ipython3",
   "version": "3.7.0"
  }
 },
 "nbformat": 4,
 "nbformat_minor": 2
}
